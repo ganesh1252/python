{
 "cells": [
  {
   "cell_type": "markdown",
   "metadata": {},
   "source": [
    "# Assignment day-1"
   ]
  },
  {
   "cell_type": "code",
   "execution_count": 6,
   "metadata": {},
   "outputs": [
    {
     "name": "stdout",
     "output_type": "stream",
     "text": [
      "5050\n"
     ]
    }
   ],
   "source": [
    "# 1 using function  to perform sum of natural numbers\n",
    "def naturalnum(n):\n",
    "    n=(n*(n+1))/2\n",
    "    print(round(n))\n",
    "\n",
    "naturalnum(100)"
   ]
  },
  {
   "cell_type": "code",
   "execution_count": 10,
   "metadata": {},
   "outputs": [
    {
     "data": {
      "text/plain": [
       "'64'"
      ]
     },
     "execution_count": 10,
     "metadata": {},
     "output_type": "execute_result"
    }
   ],
   "source": [
    "# 2. using String Slicing print the Reverse of middle characters of ur mobile number\n",
    "\n",
    "\n",
    "n='8297463209'\n",
    "n[-5:3:-1]"
   ]
  },
  {
   "cell_type": "code",
   "execution_count": 18,
   "metadata": {},
   "outputs": [
    {
     "name": "stdout",
     "output_type": "stream",
     "text": [
      "456 is not armstrong\n"
     ]
    }
   ],
   "source": [
    "def arm(num):\n",
    "    count=0\n",
    "    n=num\n",
    "    while(n>0):\n",
    "        rem=n%2\n",
    "        count=count+rem**3\n",
    "        n=n/10\n",
    "    if(num==count):\n",
    "        print(num, \"is armstrong\")\n",
    "    else:\n",
    "        print(num,\"is not armstrong\")\n",
    "arm(456)\n",
    "              \n",
    "\n",
    "        "
   ]
  },
  {
   "cell_type": "code",
   "execution_count": null,
   "metadata": {},
   "outputs": [],
   "source": []
  }
 ],
 "metadata": {
  "kernelspec": {
   "display_name": "Python 3",
   "language": "python",
   "name": "python3"
  },
  "language_info": {
   "codemirror_mode": {
    "name": "ipython",
    "version": 3
   },
   "file_extension": ".py",
   "mimetype": "text/x-python",
   "name": "python",
   "nbconvert_exporter": "python",
   "pygments_lexer": "ipython3",
   "version": "3.7.1"
  }
 },
 "nbformat": 4,
 "nbformat_minor": 2
}
