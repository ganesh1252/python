{
 "cells": [
  {
   "cell_type": "code",
   "execution_count": null,
   "metadata": {},
   "outputs": [],
   "source": [
    "\n",
    "def isLeap(year):\n",
    "    if year % 4==0 or year %100!=0 and year % 400 == 0:\n",
    "        return True\n",
    "    return False\n",
    "isLeap(1600)"
   ]
  },
  {
   "cell_type": "markdown",
   "metadata": {},
   "source": [
    "### Iterators in Python"
   ]
  },
  {
   "cell_type": "code",
   "execution_count": null,
   "metadata": {},
   "outputs": [],
   "source": [
    "li=[4,5,8,4]"
   ]
  },
  {
   "cell_type": "code",
   "execution_count": null,
   "metadata": {},
   "outputs": [],
   "source": [
    "li=iter(li)"
   ]
  },
  {
   "cell_type": "code",
   "execution_count": null,
   "metadata": {},
   "outputs": [],
   "source": [
    "type(li)"
   ]
  },
  {
   "cell_type": "code",
   "execution_count": null,
   "metadata": {},
   "outputs": [],
   "source": [
    "print(next(li))"
   ]
  },
  {
   "cell_type": "code",
   "execution_count": null,
   "metadata": {},
   "outputs": [],
   "source": []
  },
  {
   "cell_type": "markdown",
   "metadata": {},
   "source": [
    "###  List Comprensions"
   ]
  },
  {
   "cell_type": "code",
   "execution_count": null,
   "metadata": {},
   "outputs": [],
   "source": [
    "# Sum of N natural number\n",
    "\n",
    "n=100\n",
    "sum(list(range(n+1)))"
   ]
  },
  {
   "cell_type": "code",
   "execution_count": null,
   "metadata": {},
   "outputs": [],
   "source": [
    "from math import sqrt\n",
    "def sqrtnaturalnumber(n):\n",
    "    return [sqrt(i) for i in list(range(1,n+1))]\n",
    "sqrtnaturalnumber(10)\n",
    "\n",
    "def sqrlistelem(li):\n",
    "    return [i ** 2 for i in li]\n",
    "sqrlistelem(li)\n"
   ]
  },
  {
   "cell_type": "code",
   "execution_count": null,
   "metadata": {},
   "outputs": [],
   "source": [
    " # Define a function using list comprension \n",
    "    # identify all numbers divisible by in a list\n",
    "li=list(range(2019,2020))\n",
    "def divisible9lc(li):\n",
    "    return [i for i in li if (i % 4==0 and i % 100 !=0) or i % 400 ==0]\n",
    "divisible9lc(li)"
   ]
  },
  {
   "cell_type": "markdown",
   "metadata": {},
   "source": [
    "# Maps\n",
    "Functons and iterators are passed as parameters "
   ]
  },
  {
   "cell_type": "code",
   "execution_count": null,
   "metadata": {},
   "outputs": [],
   "source": [
    " # Functio  to calculate cubes af all numbers in a list\n",
    "li=[1,2,4,6,7,7]\n",
    "def cube(n):\n",
    "    return n**3\n",
    "for i in li:\n",
    "    cube(i)\n",
    "\n",
    "    \n",
    "len(list(map(cube,li)))\n",
    "    "
   ]
  },
  {
   "cell_type": "code",
   "execution_count": null,
   "metadata": {},
   "outputs": [],
   "source": [
    "def numtoword(n):\n",
    "    d1={1:'one',2:'two',3:'three'}\n",
    "    digit=[]\n",
    "    i=0\n",
    "    while(n!=0):\n",
    "        digit.append(n%10)\n",
    "        n=n//10\n",
    "        i+=1\n",
    "        return digit\n",
    "def numtoword(n):\n",
    "    digits="
   ]
  },
  {
   "cell_type": "code",
   "execution_count": null,
   "metadata": {},
   "outputs": [],
   "source": [
    " my_list = ['one', 'two', 'three', 'three', 'five']\n",
    "my_list_len = len(my_list)\n",
    "li=[]\n",
    "for i in range(0, my_list_len):\n",
    "    li.append(i)\n",
    "    \n",
    "print(li)\n"
   ]
  },
  {
   "cell_type": "code",
   "execution_count": null,
   "metadata": {},
   "outputs": [],
   "source": [
    "import ganesh.gan\n",
    "\n",
    "ganesh.gan.isLeap(2012)"
   ]
  },
  {
   "cell_type": "code",
   "execution_count": null,
   "metadata": {},
   "outputs": [],
   "source": [
    "import ganesh.gan as a\n",
    "a.isLeap(2013)"
   ]
  },
  {
   "cell_type": "code",
   "execution_count": null,
   "metadata": {},
   "outputs": [],
   "source": [
    "import ram.avgt \n",
    "t1=(1,2,3,4)\n",
    "ram.avgt.avgtuple(t1)"
   ]
  },
  {
   "cell_type": "code",
   "execution_count": 3,
   "metadata": {},
   "outputs": [
    {
     "name": "stdout",
     "output_type": "stream",
     "text": [
      "8\n"
     ]
    },
    {
     "data": {
      "text/plain": [
       "True"
      ]
     },
     "execution_count": 3,
     "metadata": {},
     "output_type": "execute_result"
    }
   ],
   "source": [
    "import ganesh.gan\n",
    "print(ganesh.gan.cube(2))\n",
    "ganesh.gan.isLeap(2012)"
   ]
  },
  {
   "cell_type": "code",
   "execution_count": null,
   "metadata": {},
   "outputs": [],
   "source": [
    "import ram.avgt as b\n",
    "t1=(1,2,3,4,5)\n",
    "b.avgtuple(t1)\n"
   ]
  },
  {
   "cell_type": "code",
   "execution_count": null,
   "metadata": {},
   "outputs": [],
   "source": [
    "import ram.avgt\n",
    "ram.avgt.isLeap(2012)\n"
   ]
  },
  {
   "cell_type": "code",
   "execution_count": null,
   "metadata": {},
   "outputs": [],
   "source": []
  }
 ],
 "metadata": {
  "kernelspec": {
   "display_name": "Python 3",
   "language": "python",
   "name": "python3"
  },
  "language_info": {
   "codemirror_mode": {
    "name": "ipython",
    "version": 3
   },
   "file_extension": ".py",
   "mimetype": "text/x-python",
   "name": "python",
   "nbconvert_exporter": "python",
   "pygments_lexer": "ipython3",
   "version": "3.7.1"
  }
 },
 "nbformat": 4,
 "nbformat_minor": 2
}
