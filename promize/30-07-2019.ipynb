{
 "cells": [
  {
   "cell_type": "markdown",
   "metadata": {},
   "source": [
    "## Creating class"
   ]
  },
  {
   "cell_type": "code",
   "execution_count": 3,
   "metadata": {},
   "outputs": [
    {
     "name": "stdout",
     "output_type": "stream",
     "text": [
      "hello, good morning!\n"
     ]
    }
   ],
   "source": [
    "class Abc:            # class\n",
    "    def printinfo(self):  # method\n",
    "        print(\"hello, good morning!\")\n",
    "obj=Abc()           # object creation\n",
    "obj.printinfo()    # method calling"
   ]
  },
  {
   "cell_type": "code",
   "execution_count": 5,
   "metadata": {},
   "outputs": [
    {
     "data": {
      "text/plain": [
       "153.93804002589985"
      ]
     },
     "execution_count": 5,
     "metadata": {},
     "output_type": "execute_result"
    }
   ],
   "source": [
    "import math\n",
    "class Circle:\n",
    "    def __init__(self,r):\n",
    "        self.r=r\n",
    "    def area(self):\n",
    "        return math.pi*self.r*self.r\n",
    "    \n",
    "\n",
    "obj=Circle(7)\n",
    "obj.area()\n",
    "\n"
   ]
  },
  {
   "cell_type": "code",
   "execution_count": 31,
   "metadata": {},
   "outputs": [
    {
     "data": {
      "text/plain": [
       "153.93804002589985"
      ]
     },
     "execution_count": 31,
     "metadata": {},
     "output_type": "execute_result"
    }
   ],
   "source": [
    "import math\n",
    "class Circle:\n",
    "    def area(self,r):\n",
    "        return math.pi*r*r\n",
    "    def peri(self,r):\n",
    "        return 2*math.pi*r\n",
    "\n",
    "obj=Circle()\n",
    "obj.area(7)\n",
    "\n"
   ]
  },
  {
   "cell_type": "code",
   "execution_count": 9,
   "metadata": {},
   "outputs": [
    {
     "name": "stdout",
     "output_type": "stream",
     "text": [
      "camera is good\n"
     ]
    }
   ],
   "source": [
    "class Vivo:\n",
    "    def adv(self):\n",
    "        print(\"camera is good\")\n",
    "class Mi(Vivo):\n",
    "    def adv1(self):\n",
    "        print(\"battery backup is good\")\n",
    "m=Mi()\n",
    "m.adv()\n",
    "    "
   ]
  },
  {
   "cell_type": "markdown",
   "metadata": {},
   "source": [
    "#### Inheritences\n",
    "    single\n",
    "    multilevel\n",
    "    multiple\n",
    "    hierarchal\n",
    "    hybrid"
   ]
  },
  {
   "cell_type": "code",
   "execution_count": 21,
   "metadata": {},
   "outputs": [
    {
     "name": "stdout",
     "output_type": "stream",
     "text": [
      "good security\n"
     ]
    }
   ],
   "source": [
    "class Vivo:\n",
    "    def adv(self):\n",
    "        print(\"camera is good\")\n",
    "class Mi(Vivo):\n",
    "    def adv(self):\n",
    "        print(\"battery backup is good\")\n",
    "class Apple(Mi):\n",
    "    def adv(self):\n",
    "        print(\"good security\")\n",
    "m=Apple()\n",
    "m.adv()"
   ]
  },
  {
   "cell_type": "code",
   "execution_count": 11,
   "metadata": {},
   "outputs": [
    {
     "name": "stdout",
     "output_type": "stream",
     "text": [
      "camera is good\n"
     ]
    }
   ],
   "source": [
    "class Vivo:\n",
    "    def adv(self):\n",
    "        print(\"camera is good\")\n",
    "class Mi(Vivo):\n",
    "    def adv1(self):\n",
    "        print(\"battery backup is good\")\n",
    "class Apple(Vivo):\n",
    "    def adv2(self):\n",
    "        print(\"good security\")\n",
    "m=Apple()\n",
    "m.adv()"
   ]
  },
  {
   "cell_type": "code",
   "execution_count": 25,
   "metadata": {},
   "outputs": [
    {
     "name": "stdout",
     "output_type": "stream",
     "text": [
      "battery backup is good\n"
     ]
    }
   ],
   "source": [
    "class Vivo:\n",
    "    def adv(self):\n",
    "        print(\"camera is good\")\n",
    "class Mi():\n",
    "    def adv(self):\n",
    "        print(\"battery backup is good\")\n",
    "class Apple():\n",
    "    def adv(self):\n",
    "        print(\"good security\")\n",
    "class Oppo(Mi,Apple,Vivo):\n",
    "    def adv(self):\n",
    "        print(\"oppo is bad\")\n",
    "m=Mi()\n",
    "m.adv()"
   ]
  },
  {
   "cell_type": "code",
   "execution_count": 28,
   "metadata": {},
   "outputs": [
    {
     "ename": "NameError",
     "evalue": "name 'self' is not defined",
     "output_type": "error",
     "traceback": [
      "\u001b[1;31m---------------------------------------------------------------------------\u001b[0m",
      "\u001b[1;31mNameError\u001b[0m                                 Traceback (most recent call last)",
      "\u001b[1;32m<ipython-input-28-277d5c4cbd3d>\u001b[0m in \u001b[0;36m<module>\u001b[1;34m\u001b[0m\n\u001b[0;32m      3\u001b[0m \u001b[1;32mdef\u001b[0m \u001b[0mprintinfo\u001b[0m\u001b[1;33m(\u001b[0m\u001b[0mname\u001b[0m\u001b[1;33m)\u001b[0m\u001b[1;33m:\u001b[0m\u001b[1;33m\u001b[0m\u001b[1;33m\u001b[0m\u001b[0m\n\u001b[0;32m      4\u001b[0m     \u001b[0mprint\u001b[0m\u001b[1;33m(\u001b[0m\u001b[1;34m\"ganesh\"\u001b[0m\u001b[1;33m,\u001b[0m\u001b[0mname\u001b[0m\u001b[1;33m)\u001b[0m\u001b[1;33m\u001b[0m\u001b[1;33m\u001b[0m\u001b[0m\n\u001b[1;32m----> 5\u001b[1;33m \u001b[0mprintinfo\u001b[0m\u001b[1;33m(\u001b[0m\u001b[0mself\u001b[0m\u001b[1;33m)\u001b[0m\u001b[1;33m\u001b[0m\u001b[1;33m\u001b[0m\u001b[0m\n\u001b[0m",
      "\u001b[1;31mNameError\u001b[0m: name 'self' is not defined"
     ]
    }
   ],
   "source": [
    "def printinfo():\n",
    "    print(\"hello..\")\n",
    "def printinfo(name):\n",
    "    print(\"ganesh\",name)\n",
    "printinfo(self)\n"
   ]
  },
  {
   "cell_type": "code",
   "execution_count": 30,
   "metadata": {},
   "outputs": [
    {
     "name": "stdout",
     "output_type": "stream",
     "text": [
      "hello\n"
     ]
    }
   ],
   "source": [
    "# Overriding in funtions \n",
    "\n",
    "class A:\n",
    "    def disp(self):\n",
    "        pass\n",
    "class B:\n",
    "    def disp(self):\n",
    "        print(\"hello\")\n",
    "b=B()\n",
    "b.disp()"
   ]
  },
  {
   "cell_type": "markdown",
   "metadata": {},
   "source": [
    "## variable creation in class outside function\n",
    " how to create private numbers \n",
    " how to overload operators"
   ]
  }
 ],
 "metadata": {
  "kernelspec": {
   "display_name": "Python 3",
   "language": "python",
   "name": "python3"
  },
  "language_info": {
   "codemirror_mode": {
    "name": "ipython",
    "version": 3
   },
   "file_extension": ".py",
   "mimetype": "text/x-python",
   "name": "python",
   "nbconvert_exporter": "python",
   "pygments_lexer": "ipython3",
   "version": "3.7.1"
  }
 },
 "nbformat": 4,
 "nbformat_minor": 2
}
